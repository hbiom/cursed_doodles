{
 "cells": [
  {
   "cell_type": "code",
   "execution_count": 13,
   "metadata": {},
   "outputs": [
    {
     "data": {
      "text/plain": [
       "array(['a', 'a', 'a', 'b'], dtype='<U1')"
      ]
     },
     "execution_count": 13,
     "metadata": {},
     "output_type": "execute_result"
    }
   ],
   "source": [
    "letters = ['a', 'a', 'a', 'b']\n",
    "letters = np.array(letters)\n",
    "letters"
   ]
  },
  {
   "cell_type": "code",
   "execution_count": 15,
   "metadata": {},
   "outputs": [
    {
     "data": {
      "text/plain": [
       "array(['a', 'a'], dtype='<U1')"
      ]
     },
     "execution_count": 15,
     "metadata": {},
     "output_type": "execute_result"
    }
   ],
   "source": [
    "letters[[0,1]]"
   ]
  },
  {
   "cell_type": "code",
   "execution_count": 20,
   "metadata": {},
   "outputs": [
    {
     "name": "stdout",
     "output_type": "stream",
     "text": [
      "['a' 'a' 'a' 'b']\n"
     ]
    }
   ],
   "source": [
    "string = \"abaa\"\n",
    "\n",
    "letters = np.array(sorted(string))\n",
    "#np.array(string)\n",
    "print(letters)\n",
    "index_letter = [0,1]"
   ]
  },
  {
   "cell_type": "code",
   "execution_count": 22,
   "metadata": {},
   "outputs": [
    {
     "name": "stdout",
     "output_type": "stream",
     "text": [
      "['a' 'a']\n"
     ]
    }
   ],
   "source": [
    "print(letters[index_letter[:2]])"
   ]
  },
  {
   "cell_type": "code",
   "execution_count": 37,
   "metadata": {},
   "outputs": [
    {
     "name": "stdout",
     "output_type": "stream",
     "text": [
      "['a', 'b']\n"
     ]
    }
   ],
   "source": [
    "letters = ['a', 'a', 'a', 'b']\n",
    "index = [0, 1]\n",
    "\n",
    "liste = [j for i, j in enumerate(letters) if i not in index[:2]]\n",
    "\n",
    "print(liste)"
   ]
  },
  {
   "cell_type": "code",
   "execution_count": null,
   "metadata": {},
   "outputs": [],
   "source": [
    "import string\n",
    "x = 'a'\n",
    "letters = string.ascii_letters\n",
    "x = letters[letters.index(x) + 1]\n",
    "print(x)"
   ]
  },
  {
   "cell_type": "code",
   "execution_count": 25,
   "metadata": {},
   "outputs": [
    {
     "data": {
      "text/plain": [
       "'b'"
      ]
     },
     "execution_count": 25,
     "metadata": {},
     "output_type": "execute_result"
    }
   ],
   "source": [
    "chr(ord('a') + 1)"
   ]
  },
  {
   "cell_type": "code",
   "execution_count": 31,
   "metadata": {},
   "outputs": [
    {
     "ename": "SyntaxError",
     "evalue": "invalid syntax (<ipython-input-31-ed6993c44bdb>, line 3)",
     "output_type": "error",
     "traceback": [
      "\u001b[0;36m  File \u001b[0;32m\"<ipython-input-31-ed6993c44bdb>\"\u001b[0;36m, line \u001b[0;32m3\u001b[0m\n\u001b[0;31m    if! any(x > 1 for x in array):\u001b[0m\n\u001b[0m      ^\u001b[0m\n\u001b[0;31mSyntaxError\u001b[0m\u001b[0;31m:\u001b[0m invalid syntax\n"
     ]
    }
   ],
   "source": [
    "array = [2,1]\n",
    "\n",
    "if any(x > 1 for x in array):\n",
    "    print(\"okay\")\n"
   ]
  },
  {
   "cell_type": "code",
   "execution_count": 49,
   "metadata": {},
   "outputs": [],
   "source": [
    "import numpy as np\n",
    "\n",
    "def last_survivors(string):\n",
    "    letters = sorted(string)\n",
    "    print(letters)\n",
    "   #print(type(counts))\n",
    "    #hile np.sum(counts > 1) !=0:\n",
    "    for letter in letters:\n",
    "        print('letter' + ' ' + letter)\n",
    "        index_letters = [i for i,val in enumerate(letters) if val==letter]\n",
    "        print(index_letters)\n",
    "        if len(index_letters) >= 2:\n",
    "           # print(index_letters[:2])\n",
    "            letters = [j for i, j in enumerate(letters) if i not in index_letters[:2]]\n",
    "            print(letters)\n",
    "            letters.append(chr(ord(letter)+1))\n",
    "\n",
    "    return ('').join(letters)"
   ]
  },
  {
   "cell_type": "code",
   "execution_count": 51,
   "metadata": {},
   "outputs": [
    {
     "name": "stdout",
     "output_type": "stream",
     "text": [
      "['z', 'z']\n",
      "letter z\n",
      "[0, 1]\n",
      "[]\n",
      "letter z\n",
      "[]\n"
     ]
    },
    {
     "data": {
      "text/plain": [
       "'{'"
      ]
     },
     "execution_count": 51,
     "metadata": {},
     "output_type": "execute_result"
    }
   ],
   "source": [
    "string = 'zz'\n",
    "last_survivors(string)"
   ]
  },
  {
   "cell_type": "code",
   "execution_count": 55,
   "metadata": {},
   "outputs": [
    {
     "data": {
      "text/plain": [
       "122"
      ]
     },
     "execution_count": 55,
     "metadata": {},
     "output_type": "execute_result"
    }
   ],
   "source": [
    "ord('z')"
   ]
  },
  {
   "cell_type": "code",
   "execution_count": 56,
   "metadata": {},
   "outputs": [
    {
     "data": {
      "text/plain": [
       "'{'"
      ]
     },
     "execution_count": 56,
     "metadata": {},
     "output_type": "execute_result"
    }
   ],
   "source": [
    "chr(ord('z') + 1)"
   ]
  },
  {
   "cell_type": "code",
   "execution_count": 59,
   "metadata": {},
   "outputs": [
    {
     "data": {
      "text/plain": [
       "'bcdefghijklmnopqrstuvwxyza'"
      ]
     },
     "execution_count": 59,
     "metadata": {},
     "output_type": "execute_result"
    }
   ],
   "source": []
  },
  {
   "cell_type": "code",
   "execution_count": null,
   "metadata": {},
   "outputs": [],
   "source": [
    "a_list = [1, 2, 1]\n",
    "a_set = set(a_list)\n",
    "contains_duplicates = len(a_list) != len(a_set)"
   ]
  },
  {
   "cell_type": "code",
   "execution_count": 120,
   "metadata": {},
   "outputs": [],
   "source": [
    "def last_survivors(string):\n",
    "    ans = list(string)\n",
    "    abc = list(map(chr, range(97, 123))) # all letters\n",
    "    abc.append('a') # append the first letter at last z - a - b ...\n",
    "    print(ans)\n",
    "    \n",
    "    for f in range(len(string)):\n",
    "        print('f' + ' ' + str(f))\n",
    "        for i in ans:\n",
    "            print(i)\n",
    "            print(ans.count(i))\n",
    "            if ans.count(i) >= 2:\n",
    "                index = abc.index(i)\n",
    "                print('index' + \" \" + str(index))\n",
    "                ans.remove(i)\n",
    "                ans.remove(i)\n",
    "                ans.append(abc[index + 1])\n",
    "                print(ans)\n",
    "            \n",
    "    return \"\".join(ans)        \n",
    "            "
   ]
  },
  {
   "cell_type": "code",
   "execution_count": 137,
   "metadata": {},
   "outputs": [
    {
     "data": {
      "text/plain": [
       "'Isaac'"
      ]
     },
     "execution_count": 137,
     "metadata": {},
     "output_type": "execute_result"
    }
   ],
   "source": [
    "import re\n",
    "m = re.match(r\"(\\w+) (\\w+)\", \"Isaac Newton, physicist\")\n",
    "m.group(1)"
   ]
  },
  {
   "cell_type": "code",
   "execution_count": 124,
   "metadata": {},
   "outputs": [],
   "source": [
    "from re import sub\n",
    "def last_survivors(s):\n",
    "    while len(set(s)) != len(s):\n",
    "        s = sub(r'(.)(.*)\\1', lambda x: chr((ord(x.group(1))-96)%26+97) + x.group(2),s)\n",
    "    return s"
   ]
  },
  {
   "cell_type": "code",
   "execution_count": 158,
   "metadata": {},
   "outputs": [],
   "source": [
    "from collections import Counter\n",
    "\n",
    "def shift(c):\n",
    "    return chr( (ord(c) - 96) % 26 + 97 )\n",
    "\n",
    "def last_survivors(string):\n",
    "    c = Counter(string)\n",
    "    print(c)\n",
    "    while True:\n",
    "        for k,v in c.items():\n",
    "            print(k)\n",
    "            print(v)\n",
    "            if v > 1:\n",
    "                c[k] = v % 2\n",
    "                c[shift(k)] += v // 2\n",
    "                break\n",
    "        else:\n",
    "            print(c)\n",
    "            return \"\".join(c.elements())"
   ]
  },
  {
   "cell_type": "code",
   "execution_count": 159,
   "metadata": {},
   "outputs": [
    {
     "name": "stdout",
     "output_type": "stream",
     "text": [
      "Counter({'a': 3, 'b': 1})\n",
      "a\n",
      "3\n",
      "a\n",
      "1\n",
      "b\n",
      "2\n",
      "a\n",
      "1\n",
      "b\n",
      "0\n",
      "c\n",
      "1\n",
      "Counter({'a': 1, 'c': 1, 'b': 0})\n"
     ]
    },
    {
     "data": {
      "text/plain": [
       "'ac'"
      ]
     },
     "execution_count": 159,
     "metadata": {},
     "output_type": "execute_result"
    }
   ],
   "source": [
    "string = 'abaa'\n",
    "last_survivors(string)"
   ]
  },
  {
   "cell_type": "code",
   "execution_count": 150,
   "metadata": {},
   "outputs": [
    {
     "data": {
      "text/plain": [
       "1"
      ]
     },
     "execution_count": 150,
     "metadata": {},
     "output_type": "execute_result"
    }
   ],
   "source": [
    "3%2"
   ]
  },
  {
   "cell_type": "code",
   "execution_count": 151,
   "metadata": {},
   "outputs": [
    {
     "data": {
      "text/plain": [
       "1"
      ]
     },
     "execution_count": 151,
     "metadata": {},
     "output_type": "execute_result"
    }
   ],
   "source": [
    "3//2"
   ]
  },
  {
   "cell_type": "code",
   "execution_count": 149,
   "metadata": {},
   "outputs": [
    {
     "data": {
      "text/plain": [
       "'b'"
      ]
     },
     "execution_count": 149,
     "metadata": {},
     "output_type": "execute_result"
    }
   ],
   "source": [
    "shift('a')"
   ]
  },
  {
   "cell_type": "code",
   "execution_count": 155,
   "metadata": {},
   "outputs": [
    {
     "name": "stdout",
     "output_type": "stream",
     "text": [
      "Dog\n",
      "Dog\n"
     ]
    }
   ],
   "source": [
    "counter = Counter({'Dog': 2, 'Cat': -1, 'Horse': 0})\n",
    "\n",
    "# elements()\n",
    "elements = counter.elements()  # doesn't return elements with count 0 or less\n",
    "for value in elements:\n",
    "    print(value)"
   ]
  },
  {
   "cell_type": "code",
   "execution_count": null,
   "metadata": {},
   "outputs": [],
   "source": []
  }
 ],
 "metadata": {
  "kernelspec": {
   "display_name": "Python 3",
   "language": "python",
   "name": "python3"
  },
  "language_info": {
   "codemirror_mode": {
    "name": "ipython",
    "version": 3
   },
   "file_extension": ".py",
   "mimetype": "text/x-python",
   "name": "python",
   "nbconvert_exporter": "python",
   "pygments_lexer": "ipython3",
   "version": "3.7.6"
  }
 },
 "nbformat": 4,
 "nbformat_minor": 4
}
